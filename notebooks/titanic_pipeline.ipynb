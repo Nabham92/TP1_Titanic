{
 "cells": [
  {
   "cell_type": "code",
   "execution_count": null,
   "metadata": {},
   "outputs": [],
   "source": [
    "import re\n",
    "import pandas as pd\n",
    "import numpy as np\n",
    "import matplotlib.pyplot as plt\n",
    "from sklearn.model_selection import train_test_split\n",
    "from sklearn.pipeline import Pipeline\n",
    "from sklearn.preprocessing import StandardScaler\n",
    "from sklearn.linear_model import LogisticRegression\n",
    "from sklearn.metrics import accuracy_score, roc_auc_score\n",
    "import joblib\n",
    "\n",
    "# NEW IMPORTS\n",
    "from feature_engine.imputation import CategoricalImputer, MeanMedianImputer, AddMissingIndicator\n",
    "from feature_engine.encoding import RareLabelEncoder, OneHotEncoder"
   ]
  },
  {
   "cell_type": "markdown",
   "metadata": {},
   "source": [
    "## Prepare the data set"
   ]
  },
  {
   "cell_type": "code",
   "execution_count": null,
   "metadata": {},
   "outputs": [],
   "source": [
    "# load the data - it is available open source and online\n",
    "data = pd.read_csv(r'data\\raw\\train.csv')\n",
    "\n",
    "# display data\n",
    "data.head()"
   ]
  },
  {
   "cell_type": "code",
   "execution_count": null,
   "metadata": {},
   "outputs": [],
   "source": [
    "# replace interrogation marks by NaN values\n",
    "data = data.replace('?', np.nan)"
   ]
  },
  {
   "cell_type": "code",
   "execution_count": null,
   "metadata": {},
   "outputs": [],
   "source": [
    "# retain only the first cabin if more than 1 are available per passenger\n",
    "def get_first_cabin(row: str) -> str:\n",
    "    try:\n",
    "        return row.split()[0]\n",
    "    except Exception:\n",
    "        return np.nan\n",
    "    \n",
    "data['cabin'] = data['cabin'].apply(get_first_cabin)"
   ]
  },
  {
   "cell_type": "code",
   "execution_count": null,
   "metadata": {},
   "outputs": [],
   "source": [
    "# extracts the title (Mr, Ms, etc) from the name variable\n",
    "def get_title(passenger: str) -> str:\n",
    "    if re.search('Mrs', passenger):\n",
    "        return 'Mrs'\n",
    "    elif re.search('Mr', passenger):\n",
    "        return 'Mr'\n",
    "    elif re.search('Miss', passenger):\n",
    "        return 'Miss'\n",
    "    elif re.search('Master', passenger):\n",
    "        return 'Master'\n",
    "    else:\n",
    "        return 'Other'\n",
    "    \n",
    "data['title'] = data['name'].apply(get_title)"
   ]
  },
  {
   "cell_type": "code",
   "execution_count": null,
   "metadata": {},
   "outputs": [],
   "source": [
    "# cast numerical variables as floats\n",
    "data['fare'] = data['fare'].astype('float')\n",
    "data['age'] = data['age'].astype('float')"
   ]
  },
  {
   "cell_type": "code",
   "execution_count": null,
   "metadata": {},
   "outputs": [],
   "source": [
    "# drop unnecessary variables\n",
    "data.drop(labels=['name','ticket', 'boat', 'body','home.dest'], axis=1, inplace=True)\n",
    "\n",
    "# display data\n",
    "data.head()"
   ]
  },
  {
   "cell_type": "markdown",
   "metadata": {},
   "source": [
    "## Separate data into train and test"
   ]
  },
  {
   "cell_type": "code",
   "execution_count": null,
   "metadata": {},
   "outputs": [],
   "source": [
    "X_train, X_test, y_train, y_test = train_test_split(\n",
    "    data.drop('survived', axis=1),  # predictors\n",
    "    data['survived'],               # target\n",
    "    test_size=0.2,                  # 20% test set\n",
    "    random_state=0)                 # reproducibility\n",
    "\n",
    "print(\"Train set shape:\", X_train.shape)\n",
    "print(\"Test set shape:\", X_test.shape)"
   ]
  },
  {
   "cell_type": "markdown",
   "metadata": {},
   "source": [
    "## Pipeline"
   ]
  },
  {
   "cell_type": "code",
   "execution_count": null,
   "metadata": {},
   "outputs": [],
   "source": [
    "class ExtractLetterTransformer:\n",
    "    \"\"\"\n",
    "    Transformer qui extrait la première lettre de la variable (ex : 'cabin').\n",
    "    \"\"\"\n",
    "    def __init__(self, variable: str):\n",
    "        self.variable = variable\n",
    "\n",
    "    def fit(self, X, y=None):\n",
    "        return self\n",
    "\n",
    "    def transform(self, X):\n",
    "        X = X.copy()\n",
    "        if self.variable in X.columns:\n",
    "            X[self.variable] = X[self.variable].apply(lambda x: x[0] if pd.notnull(x) else x)\n",
    "        return X"
   ]
  },
  {
   "cell_type": "code",
   "execution_count": null,
   "metadata": {},
   "outputs": [],
   "source": [
    "titanic_pipe = Pipeline([\n",
    "    ('categorical_imputation', CategoricalImputer(variables=['pclass', 'sex', 'embarked', 'title'], fill_value='missing')),\n",
    "    ('missing_indicator', AddMissingIndicator(variables=['age', 'fare', 'sibsp', 'parch'])),\n",
    "    ('median_imputation', MeanMedianImputer(imputation_method='median', variables=['age', 'fare', 'sibsp', 'parch'])),\n",
    "    ('extract_letter', ExtractLetterTransformer(variable='cabin')),\n",
    "    ('rare_label_encoder', RareLabelEncoder(tol=0.05, n_categories=1, variables=['pclass', 'sex', 'embarked', 'title', 'cabin'])),\n",
    "    ('categorical_encoder', OneHotEncoder(drop_last=True, variables=['pclass', 'sex', 'embarked', 'title', 'cabin'])),\n",
    "    ('scaler', StandardScaler()),\n",
    "    ('Logit', LogisticRegression(C=0.0005, random_state=0))\n",
    "])"
   ]
  },
  {
   "cell_type": "code",
   "execution_count": null,
   "metadata": {},
   "outputs": [],
   "source": [
    "titanic_pipe.fit(X_train, y_train)"
   ]
  },
  {
   "cell_type": "code",
   "execution_count": null,
   "metadata": {},
   "outputs": [],
   "source": [
    "train_class = titanic_pipe.predict(X_train)\n",
    "train_pred = titanic_pipe.predict_proba(X_train)[:, 1]\n",
    "print('Train ROC-AUC:', roc_auc_score(y_train, train_pred))\n",
    "print('Train Accuracy:', accuracy_score(y_train, train_class))\n",
    "\n",
    "test_class = titanic_pipe.predict(X_test)\n",
    "test_pred = titanic_pipe.predict_proba(X_test)[:, 1]\n",
    "print('Test ROC-AUC:', roc_auc_score(y_test, test_pred))\n",
    "print('Test Accuracy:', accuracy_score(y_test, test_class))"
   ]
  }
 ],
 "metadata": {
  "kernelspec": {
   "display_name": "base",
   "language": "python",
   "name": "python3"
  },
  "language_info": {
   "name": "python",
   "version": "3.12.3"
  }
 },
 "nbformat": 4,
 "nbformat_minor": 4
}
